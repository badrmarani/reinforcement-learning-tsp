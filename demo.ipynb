{
 "cells": [
  {
   "cell_type": "code",
   "execution_count": null,
   "metadata": {},
   "outputs": [],
   "source": [
    "from pathlib import Path\n",
    "from model import TSP\n",
    "from utils import cost, draw\n",
    "import matplotlib.pyplot as plt\n",
    "import os\n",
    "import yaml\n",
    "from types import SimpleNamespace\n",
    "import torch\n",
    "\n",
    "%matplotlib inline"
   ]
  },
  {
   "cell_type": "code",
   "execution_count": null,
   "metadata": {},
   "outputs": [],
   "source": [
    "dtype = torch.float\n",
    "device = torch.device(\"cuda\" if torch.cuda.is_available() else \"cpu\")\n",
    "\n",
    "files = Path(\"results/checkpoints/\").iterdir()\n",
    "checkpoint = torch.load(max(files, key=os.path.getctime), map_location=device)\n",
    "args = checkpoint[\"args\"]\n",
    "args = SimpleNamespace(**args)\n",
    "\n",
    "model = TSP(\n",
    "    embed_size=args.embed_size,\n",
    "    num_heads=args.num_heads,\n",
    "    reg=args.reg,\n",
    "    niters=args.niters,\n",
    "    greedy=False,\n",
    ").to(device)\n",
    "model.load_state_dict(checkpoint[\"model\"])"
   ]
  },
  {
   "cell_type": "code",
   "execution_count": null,
   "metadata": {},
   "outputs": [],
   "source": [
    "x = torch.rand(size=(1, args.num_nodes, 2), dtype=dtype, device=device)\n",
    "\n",
    "nrows, ncols = 5, 5\n",
    "fig, axs = plt.subplots(5, 5, figsize=(20, 20))\n",
    "solution, costs = [], []\n",
    "for index, ax in enumerate(axs.flat):\n",
    "    solution.append(model(x)[0])\n",
    "    costs.append(cost(x, model(x)[0]).item())\n",
    "\n",
    "best = min(costs)\n",
    "best_solution = costs.index(best)\n",
    "print(best_solution)\n",
    "for index, ax in enumerate(axs.flat):\n",
    "    draw(x, solution[index], ax)\n",
    "    if index == best_solution:\n",
    "        ax.set_title(\"solution {} - {:.3f}\".format(index, costs[index]), color=\"blue\")\n",
    "    else:\n",
    "        ax.set_title(\"solution {} - {:.3f}\".format(index, costs[index]), color=\"black\")\n",
    "\n",
    "plt.savefig(\"./results/{}_samples_viz_.jpg\".format(nrows * ncols))\n",
    "plt.show()"
   ]
  }
 ],
 "metadata": {
  "kernelspec": {
   "display_name": "Python 3",
   "language": "python",
   "name": "python3"
  },
  "language_info": {
   "codemirror_mode": {
    "name": "ipython",
    "version": 3
   },
   "file_extension": ".py",
   "mimetype": "text/x-python",
   "name": "python",
   "nbconvert_exporter": "python",
   "pygments_lexer": "ipython3",
   "version": "3.10.5"
  },
  "orig_nbformat": 4,
  "vscode": {
   "interpreter": {
    "hash": "8c3d4d9970fc5c09c50d9318a9c7fbf4d0159e4b28833276f5678ee22bded273"
   }
  }
 },
 "nbformat": 4,
 "nbformat_minor": 2
}
